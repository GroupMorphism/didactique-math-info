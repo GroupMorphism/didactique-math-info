{
 "cells": [
  {
   "cell_type": "markdown",
   "id": "b6683317-daea-4bb5-acd3-cbffe6032e79",
   "metadata": {},
   "source": [
    "Cryptographic hash functions\n",
    "\n",
    "Dans ce notebook, on va introduire les fonctions de hashage et leur role dans les signatures digitales.\n",
    "\n",
    "Table des matières:\n",
    "1. Fondements théoriques (Fondements.ipynb)\n",
    "    1.1 Encryption à clé publique\n",
    "    1.2 Signature Digitale\n",
    "    1.3 Fonction de hashage cryptographique\n",
    "\n",
    "2. Exemples d'utilisation à l'aide de la librarie python hashlib (exemples_introduction.ipynb)\n",
    "\n",
    "3. MD5\n",
    "\n",
    "4. SHA3\n",
    "\n",
    "5. Direction vers une ère post-quantum "
   ]
  }
 ],
 "metadata": {
  "kernelspec": {
   "display_name": "Python 3 (ipykernel)",
   "language": "python",
   "name": "python3"
  },
  "language_info": {
   "codemirror_mode": {
    "name": "ipython",
    "version": 3
   },
   "file_extension": ".py",
   "mimetype": "text/x-python",
   "name": "python",
   "nbconvert_exporter": "python",
   "pygments_lexer": "ipython3",
   "version": "3.11.3"
  }
 },
 "nbformat": 4,
 "nbformat_minor": 5
}
