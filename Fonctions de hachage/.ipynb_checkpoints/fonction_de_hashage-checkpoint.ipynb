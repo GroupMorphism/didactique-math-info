{
 "cells": [
  {
   "cell_type": "code",
   "execution_count": 2,
   "id": "28a68f3b-ee47-4c7a-85d2-f5ece9a699a0",
   "metadata": {
    "tags": []
   },
   "outputs": [],
   "source": [
    "# import\n",
    "import hashlib"
   ]
  },
  {
   "cell_type": "code",
   "execution_count": 17,
   "id": "ecee4293-9966-4511-b71d-7836bec5fbac",
   "metadata": {},
   "outputs": [
    {
     "name": "stdout",
     "output_type": "stream",
     "text": [
      "Phrase originale:\n",
      "b'fan du lan ets'\n",
      "Information après le hashage:\n",
      "28b6e8f90fbc170baf5a6beba93a4f7d1705ba9bb37bdac824fac94c3a949c9d\n"
     ]
    }
   ],
   "source": [
    "# premier exemple\n",
    "# fonction de hashage sur un bytestring\n",
    "\n",
    "\n",
    "\n",
    "\n",
    "\n",
    "\n",
    "\n",
    "\n",
    "\n"
   ]
  },
  {
   "cell_type": "markdown",
   "id": "7bb766eb-9125-482d-8291-543b2df1a4ec",
   "metadata": {},
   "source": [
    "phrase originale"
   ]
  },
  {
   "cell_type": "code",
   "execution_count": 19,
   "id": "20e322a0-9e88-45f1-843f-1d7889339ea0",
   "metadata": {
    "tags": []
   },
   "outputs": [
    {
     "name": "stdout",
     "output_type": "stream",
     "text": [
      "b'fans du lan ets'\n"
     ]
    }
   ],
   "source": [
    "byte_a_encoder = b'fan du lan ets'\n",
    "print(byte_a_encoder)"
   ]
  },
  {
   "cell_type": "markdown",
   "id": "70655cd4-0ca0-49a8-84c2-caf54dd3a7fd",
   "metadata": {},
   "source": [
    "Hashage\n"
   ]
  },
  {
   "cell_type": "code",
   "execution_count": 20,
   "id": "c2974c5b-0b30-4f28-99b3-9cc8d10c093e",
   "metadata": {
    "tags": []
   },
   "outputs": [],
   "source": [
    "algo = hashlib.sha256() # on spécifie qu'on utilise la fonction de hashage SHA-256\n",
    "algo.update(byte_a_encoder)"
   ]
  },
  {
   "cell_type": "markdown",
   "id": "fcee7dde-01ce-4664-b718-10fb26a22c43",
   "metadata": {},
   "source": [
    "Information après hashage:\n"
   ]
  },
  {
   "cell_type": "code",
   "execution_count": 22,
   "id": "67714d3f-43ed-4a41-b668-83dfec11a77b",
   "metadata": {
    "tags": []
   },
   "outputs": [
    {
     "name": "stdout",
     "output_type": "stream",
     "text": [
      "3e58feb78e96807b037ecf867059573f0e4c891cf727917d7200ed898455784c\n"
     ]
    }
   ],
   "source": [
    "print(algo.hexdigest())"
   ]
  },
  {
   "cell_type": "code",
   "execution_count": 18,
   "id": "62f03707-5fc1-41c9-b268-04c519d38d64",
   "metadata": {},
   "outputs": [
    {
     "name": "stdout",
     "output_type": "stream",
     "text": [
      "Phrase originale:\n",
      "b'fans du lan ets'\n",
      "Information après le hashage:\n",
      "3e58feb78e96807b037ecf867059573f0e4c891cf727917d7200ed898455784c\n"
     ]
    }
   ],
   "source": [
    "# suite exemple 1\n",
    "# on modifie légèrement le message original\n",
    "\n",
    "byte_a_encoder = b'fans du lan ets'\n",
    "\n",
    "print('Phrase originale:')\n",
    "print(byte_a_encoder)\n",
    "\n",
    "algo = hashlib.sha256() # on spécifie qu'on utilise la fonction de hashage SHA-256\n",
    "algo.update(byte_a_encoder)\n",
    "\n",
    "print('Information après le hashage:')\n",
    "print(algo.hexdigest())\n"
   ]
  },
  {
   "cell_type": "code",
   "execution_count": null,
   "id": "ed0adad6-9359-4d28-ba25-073663c6a8fd",
   "metadata": {},
   "outputs": [],
   "source": []
  },
  {
   "cell_type": "code",
   "execution_count": null,
   "id": "aedd94ca-a122-4690-9c8d-ef1017c43116",
   "metadata": {},
   "outputs": [],
   "source": []
  },
  {
   "cell_type": "code",
   "execution_count": null,
   "id": "081f7938-3591-4ee7-9db8-5d6afd817eca",
   "metadata": {},
   "outputs": [],
   "source": []
  }
 ],
 "metadata": {
  "kernelspec": {
   "display_name": "Python 3 (ipykernel)",
   "language": "python",
   "name": "python3"
  },
  "language_info": {
   "codemirror_mode": {
    "name": "ipython",
    "version": 3
   },
   "file_extension": ".py",
   "mimetype": "text/x-python",
   "name": "python",
   "nbconvert_exporter": "python",
   "pygments_lexer": "ipython3",
   "version": "3.11.3"
  }
 },
 "nbformat": 4,
 "nbformat_minor": 5
}
