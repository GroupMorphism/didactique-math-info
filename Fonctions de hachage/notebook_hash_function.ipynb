
# ex1 
print('premier exemple')

# ex2
print('deuxieme exemple')