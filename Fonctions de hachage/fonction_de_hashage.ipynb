{
 "cells": [
  {
   "cell_type": "code",
   "execution_count": 32,
   "id": "28a68f3b-ee47-4c7a-85d2-f5ece9a699a0",
   "metadata": {
    "tags": []
   },
   "outputs": [],
   "source": [
    "# import\n",
    "import hashlib"
   ]
  },
  {
   "cell_type": "markdown",
   "id": "3a0a8208-4cec-4e5f-9f5d-7187b634c0b7",
   "metadata": {},
   "source": [
    "Exemple 1 <br>\n",
    "hashage d'un bytestring"
   ]
  },
  {
   "cell_type": "markdown",
   "id": "7bb766eb-9125-482d-8291-543b2df1a4ec",
   "metadata": {},
   "source": [
    "phrase originale"
   ]
  },
  {
   "cell_type": "code",
   "execution_count": 33,
   "id": "20e322a0-9e88-45f1-843f-1d7889339ea0",
   "metadata": {
    "tags": []
   },
   "outputs": [
    {
     "name": "stdout",
     "output_type": "stream",
     "text": [
      "b'fan du lan ets'\n"
     ]
    }
   ],
   "source": [
    "byte_a_encoder = b'fan du lan ets'\n",
    "print(byte_a_encoder)"
   ]
  },
  {
   "cell_type": "markdown",
   "id": "70655cd4-0ca0-49a8-84c2-caf54dd3a7fd",
   "metadata": {},
   "source": [
    "Hashage\n"
   ]
  },
  {
   "cell_type": "code",
   "execution_count": 34,
   "id": "c2974c5b-0b30-4f28-99b3-9cc8d10c093e",
   "metadata": {
    "tags": []
   },
   "outputs": [],
   "source": [
    "algo = hashlib.sha256() # on spécifie qu'on utilise la fonction de hashage SHA-256\n",
    "algo.update(byte_a_encoder)"
   ]
  },
  {
   "cell_type": "markdown",
   "id": "fcee7dde-01ce-4664-b718-10fb26a22c43",
   "metadata": {},
   "source": [
    "Information après hashage:\n"
   ]
  },
  {
   "cell_type": "code",
   "execution_count": 35,
   "id": "67714d3f-43ed-4a41-b668-83dfec11a77b",
   "metadata": {
    "tags": []
   },
   "outputs": [
    {
     "name": "stdout",
     "output_type": "stream",
     "text": [
      "28b6e8f90fbc170baf5a6beba93a4f7d1705ba9bb37bdac824fac94c3a949c9d\n"
     ]
    }
   ],
   "source": [
    "hash1 = algo.hexdigest()\n",
    "print(hash1)"
   ]
  },
  {
   "cell_type": "markdown",
   "id": "b1e446f4-7ea1-4d8a-be0f-37170fcf820e",
   "metadata": {},
   "source": [
    "si on modifie légèrement le message original"
   ]
  },
  {
   "cell_type": "code",
   "execution_count": 36,
   "id": "62f03707-5fc1-41c9-b268-04c519d38d64",
   "metadata": {},
   "outputs": [
    {
     "name": "stdout",
     "output_type": "stream",
     "text": [
      "b'fan du lan ets'\n"
     ]
    }
   ],
   "source": [
    "byte_a_encoder_ = b'fans du lan ets'\n",
    "print(byte_a_encoder)"
   ]
  },
  {
   "cell_type": "code",
   "execution_count": 37,
   "id": "ed0adad6-9359-4d28-ba25-073663c6a8fd",
   "metadata": {},
   "outputs": [
    {
     "name": "stdout",
     "output_type": "stream",
     "text": [
      "28b6e8f90fbc170baf5a6beba93a4f7d1705ba9bb37bdac824fac94c3a949c9d\n"
     ]
    }
   ],
   "source": [
    "algo = hashlib.sha256() # on spécifie qu'on utilise la fonction de hashage SHA-256\n",
    "algo.update(byte_a_encoder)\n",
    "hash2 = algo.hexdigest()\n",
    "\n",
    "print(hash2)"
   ]
  },
  {
   "cell_type": "markdown",
   "id": "2b961549-cdad-44ba-a894-b77d8e0e1b3d",
   "metadata": {},
   "source": [
    "comparaison\n"
   ]
  },
  {
   "cell_type": "code",
   "execution_count": 39,
   "id": "081f7938-3591-4ee7-9db8-5d6afd817eca",
   "metadata": {},
   "outputs": [
    {
     "name": "stdout",
     "output_type": "stream",
     "text": [
      "b'fan du lan ets'\n",
      "28b6e8f90fbc170baf5a6beba93a4f7d1705ba9bb37bdac824fac94c3a949c9d\n"
     ]
    }
   ],
   "source": [
    "print(byte_a_encoder)\n",
    "print(hash1)\n",
    "print()\n",
    "print(byte_a_e)"
   ]
  },
  {
   "cell_type": "code",
   "execution_count": null,
   "id": "19393d41-cfaa-4746-abc9-82c7fe0e6b56",
   "metadata": {},
   "outputs": [],
   "source": []
  },
  {
   "cell_type": "code",
   "execution_count": null,
   "id": "c39ee207-42b4-463f-942d-b204b8841800",
   "metadata": {},
   "outputs": [],
   "source": []
  },
  {
   "cell_type": "code",
   "execution_count": null,
   "id": "ad61ce2a-ac64-44fc-90ac-53fea30550c4",
   "metadata": {},
   "outputs": [],
   "source": []
  }
 ],
 "metadata": {
  "kernelspec": {
   "display_name": "Python 3 (ipykernel)",
   "language": "python",
   "name": "python3"
  },
  "language_info": {
   "codemirror_mode": {
    "name": "ipython",
    "version": 3
   },
   "file_extension": ".py",
   "mimetype": "text/x-python",
   "name": "python",
   "nbconvert_exporter": "python",
   "pygments_lexer": "ipython3",
   "version": "3.11.3"
  }
 },
 "nbformat": 4,
 "nbformat_minor": 5
}
